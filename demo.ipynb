{
  "nbformat": 4,
  "nbformat_minor": 0,
  "metadata": {
    "colab": {
      "provenance": []
    },
    "kernelspec": {
      "name": "python3",
      "display_name": "Python 3"
    },
    "language_info": {
      "name": "python"
    }
  },
  "cells": [
    {
      "cell_type": "code",
      "source": [
        "!git clone https://github.com/SFNGGL/Progetto-AI-2023-Unipg.git --branch fix-struct\n",
        "!git clone https://github.com/aimacode/aima-python.git\n",
        "!pip install -qr /content/aima-python/requirements.txt\n",
        "!pip install -q ipywidgets\n",
        "!rm /content/aima-python/utils.py\n",
        "!mv /content/Progetto-AI-2023-Unipg/module/utils.py /content/aima-python/\n",
        "import keras\n",
        "import time\n",
        "import sys\n",
        "sys.path.insert(1, '/content/Progetto-AI-2023-Unipg/module')\n",
        "sys.path.insert(2, '/content/aima-python/')\n",
        "import ip\n",
        "import predict\n",
        "import solver"
      ],
      "metadata": {
        "id": "eKAfE6yRTQX0"
      },
      "execution_count": null,
      "outputs": []
    },
    {
      "cell_type": "code",
      "source": [
        "from IPython.display import Image\n",
        "try:\n",
        "  filename = ip.take_photo()\n",
        "  print('Saved to {}'.format(filename))\n",
        "\n",
        "  display(Image(filename))\n",
        "except Exception as err:\n",
        "  # Errors will be thrown if the user does not have a webcam or if they do not\n",
        "  # grant the page permission to access it.\n",
        "  print(str(err))"
      ],
      "metadata": {
        "id": "3Xp4mTFcUv0Y"
      },
      "execution_count": null,
      "outputs": []
    },
    {
      "cell_type": "code",
      "source": [
        "ip.main()"
      ],
      "metadata": {
        "id": "aDkUhyYARlo3"
      },
      "execution_count": null,
      "outputs": []
    },
    {
      "cell_type": "code",
      "source": [
        "#Load model\n",
        "bgty_model = keras.models.load_model(\"/content/Progetto-AI-2023-Unipg/model/model.keras\")"
      ],
      "metadata": {
        "id": "jl_p7O2pkyvs"
      },
      "execution_count": 3,
      "outputs": []
    },
    {
      "cell_type": "code",
      "source": [
        "cleanup = predict.predict(\"/content/output\", bgty_model)"
      ],
      "metadata": {
        "id": "IJQHRjp0jku5"
      },
      "execution_count": null,
      "outputs": []
    },
    {
      "cell_type": "code",
      "source": [
        "p1 = solver.UniformColor(cleanup[0], cleanup[1], cleanup[2])"
      ],
      "metadata": {
        "id": "51MZkiReKicH"
      },
      "execution_count": 6,
      "outputs": []
    },
    {
      "cell_type": "code",
      "source": [
        "start_time = time.time()\n",
        "#Euristica non pesata (senza memoria)\n",
        "solPuzzle = solver.a_star_search(p1, lambda node : solver.hGrid(p1, node))\n",
        "end_time = time.time()\n",
        "\n",
        "solver.visual(solPuzzle.path(), solPuzzle.solution(), cleanup[1], cleanup[2])\n",
        "\n",
        "print(\"Solution node:\",solPuzzle)\n",
        "print('cost = ', solPuzzle.path_cost)\n",
        "print('time = ', end_time-start_time)"
      ],
      "metadata": {
        "id": "VLGVW8kUSGvm"
      },
      "execution_count": null,
      "outputs": []
    }
  ]
}